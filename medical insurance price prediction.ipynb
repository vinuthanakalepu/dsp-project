{
 "cells": [
  {
   "cell_type": "code",
   "execution_count": null,
   "metadata": {},
   "outputs": [],
   "source": [
    "# Importing Libraries:\n",
    "import pandas as pd\n",
    "import numpy as np\n",
    "import matplotlib.pyplot as plt\n",
    "import seaborn as sns"
   ]
  },
  {
   "cell_type": "code",
   "execution_count": null,
   "metadata": {},
   "outputs": [],
   "source": [
    "# Loading Train dataset:\n",
    "train_data = pd.read_csv('Train_Data.csv')"
   ]
  },
  {
   "cell_type": "code",
   "execution_count": null,
   "metadata": {
    "scrolled": true
   },
   "outputs": [],
   "source": [
    "train_data.head()"
   ]
  },
  {
   "cell_type": "code",
   "execution_count": null,
   "metadata": {},
   "outputs": [],
   "source": [
    "#shape of the dataset\n",
    "train_data.shape"
   ]
  },
  {
   "cell_type": "code",
   "execution_count": null,
   "metadata": {},
   "outputs": [],
   "source": [
    "#checking for missing values\n",
    "train_data.isnull().sum()"
   ]
  },
  {
   "cell_type": "code",
   "execution_count": null,
   "metadata": {},
   "outputs": [],
   "source": [
    "#information about the dataset\n",
    "train_data.info()"
   ]
  },
  {
   "cell_type": "code",
   "execution_count": null,
   "metadata": {},
   "outputs": [],
   "source": [
    "# Description of dataset \n",
    "train_data.describe()"
   ]
  },
  {
   "cell_type": "code",
   "execution_count": null,
   "metadata": {},
   "outputs": [],
   "source": [
    "# Description of dataset (Categorical)\n",
    "train_data.describe(include=['O'])"
   ]
  },
  {
   "cell_type": "code",
   "execution_count": null,
   "metadata": {},
   "outputs": [],
   "source": [
    "# Boxplot of Medical Insurance Charges:\n",
    "plt.figure(figsize=(8,5))\n",
    "sns.boxplot(train_data['charges'])\n",
    "plt.title('Medical Insurance Charges (Boxplot)', fontsize=20)\n",
    "plt.show()"
   ]
  },
  {
   "cell_type": "code",
   "execution_count": null,
   "metadata": {},
   "outputs": [],
   "source": [
    "# Boxplot of Age:\n",
    "plt.figure(figsize=(8,5))\n",
    "sns.boxplot(train_data['age'])\n",
    "plt.title('Age (boxplot)', fontsize=20)\n",
    "plt.show()"
   ]
  },
  {
   "cell_type": "code",
   "execution_count": null,
   "metadata": {},
   "outputs": [],
   "source": [
    "# Boxplot of Body Mass Index:\n",
    "plt.figure(figsize=(8,5))\n",
    "sns.boxplot(train_data['bmi'])\n",
    "plt.title('Body Mass Index (Boxplot)', fontsize=20)\n",
    "plt.show()"
   ]
  },
  {
   "cell_type": "code",
   "execution_count": null,
   "metadata": {},
   "outputs": [],
   "source": [
    "# Boxplot of children:\n",
    "plt.figure(figsize=(8,4))\n",
    "sns.boxplot(train_data['children'])\n",
    "plt.title('childrens (Boxplot)', fontsize=20)\n",
    "plt.show()"
   ]
  },
  {
   "cell_type": "code",
   "execution_count": null,
   "metadata": {},
   "outputs": [],
   "source": [
    "\n",
    "print(\"Male   :\", train_data['sex'].value_counts()[0])\n",
    "print(\"Female :\", train_data['sex'].value_counts()[1])\n",
    "\n",
    "# Visualization:\n",
    "plt.figure(figsize=(6,4))\n",
    "sns.countplot(train_data['sex'])\n",
    "plt.title('Sex', fontsize=20)\n",
    "plt.show()"
   ]
  },
  {
   "cell_type": "code",
   "execution_count": null,
   "metadata": {},
   "outputs": [],
   "source": [
    "print(\"Smokers     :\", train_data['smoker'].value_counts()[1])\n",
    "print(\"Non-Smokers :\", train_data['smoker'].value_counts()[0])\n",
    "\n",
    "# Visualization:\n",
    "sns.countplot(train_data['smoker'])\n",
    "sns.countplot(train_data['smoker'])\n",
    "plt.title('Smokers', fontsize=20)\n",
    "plt.show()"
   ]
  },
  {
   "cell_type": "code",
   "execution_count": null,
   "metadata": {},
   "outputs": [],
   "source": [
    "print(\"South-East region :\", train_data['region'].value_counts()[0])\n",
    "print(\"North-West region :\", train_data['region'].value_counts()[1])\n",
    "print(\"South-West region :\", train_data['region'].value_counts()[2])\n",
    "print(\"North-East region :\", train_data['region'].value_counts()[3])\n",
    "\n",
    "# Visualization:\n",
    "sns.countplot(train_data['region'])\n",
    "sns.countplot(train_data['region'])\n",
    "plt.title('Regions', fontsize=20)\n",
    "plt.show()"
   ]
  },
  {
   "cell_type": "code",
   "execution_count": null,
   "metadata": {},
   "outputs": [],
   "source": [
    "# top 5 records:\n",
    "train_data.head()"
   ]
  },
  {
   "cell_type": "code",
   "execution_count": null,
   "metadata": {},
   "outputs": [],
   "source": [
    "from sklearn import preprocessing\n",
    "le=preprocessing.LabelEncoder()\n",
    "train_data[\"region\"]=le.fit_transform(train_data[\"region\"])\n",
    "train_data[\"sex\"]=le.fit_transform(train_data[\"sex\"])\n",
    "train_data[\"region\"].unique()\n",
    "train_data[\"sex\"].unique()\n",
    "train_data[\"smoker\"]=le.fit_transform(train_data[\"smoker\"])\n",
    "train_data[\"smoker\"].unique()\n",
    "train_data.head(10)"
   ]
  },
  {
   "cell_type": "code",
   "execution_count": null,
   "metadata": {},
   "outputs": [],
   "source": [
    "# top 5 records, after rounding up & down Age:\n",
    "train_data.head()"
   ]
  },
  {
   "cell_type": "code",
   "execution_count": null,
   "metadata": {},
   "outputs": [],
   "source": [
    "# top 2 records, after encoding:\n",
    "train_data.head(2)"
   ]
  },
  {
   "cell_type": "code",
   "execution_count": null,
   "metadata": {},
   "outputs": [],
   "source": [
    "# Splitting Independent & Dependent variables:\n",
    "X = train_data.iloc[:, :-1]\n",
    "y = train_data.iloc[:, -1]"
   ]
  },
  {
   "cell_type": "code",
   "execution_count": null,
   "metadata": {},
   "outputs": [],
   "source": [
    "# top 2 records of Independent feature:\n",
    "X.head(2)"
   ]
  },
  {
   "cell_type": "code",
   "execution_count": null,
   "metadata": {},
   "outputs": [],
   "source": [
    "# top 2 records of Dependent Feature:\n",
    "y.head(2)"
   ]
  },
  {
   "cell_type": "code",
   "execution_count": null,
   "metadata": {},
   "outputs": [],
   "source": [
    "from sklearn.model_selection import train_test_split\n",
    "X_train, X_test, y_train, y_test = train_test_split(X,y, test_size=0.2, random_state=0)"
   ]
  },
  {
   "cell_type": "code",
   "execution_count": null,
   "metadata": {},
   "outputs": [],
   "source": [
    "print(X.shape,X_train.shape,X_test.shape)"
   ]
  },
  {
   "cell_type": "code",
   "execution_count": null,
   "metadata": {},
   "outputs": [],
   "source": [
    "# Importing Performance Metrics:\n",
    "from sklearn.metrics import mean_squared_error, r2_score"
   ]
  },
  {
   "cell_type": "code",
   "execution_count": null,
   "metadata": {},
   "outputs": [],
   "source": [
    "# Linear Regression:\n",
    "from sklearn.linear_model import LinearRegression\n",
    "reg = LinearRegression()\n",
    "reg = reg.fit(X_train, y_train)"
   ]
  },
  {
   "cell_type": "code",
   "execution_count": null,
   "metadata": {},
   "outputs": [],
   "source": [
    "a=int(input(\"enter age:\"))\n",
    "b=int(input(\"enter sex:\"))\n",
    "c=float(input(\"enter bmi:\"))\n",
    "d=int(input(\"enter smoker:\"))\n",
    "e=int(input(\"enter region:\"))\n",
    "f=int(input(\"children:\" ))\n",
    "y_pred = reg.predict([[a,b,c,d,e,f]])\n",
    "if(a<18 or c<15):\n",
    "    print(\"invalid data\")\n",
    "else:\n",
    "  \n",
    "    print(\"medical insurance price :\",y_pred)"
   ]
  },
  {
   "cell_type": "code",
   "execution_count": null,
   "metadata": {},
   "outputs": [],
   "source": [
    "y_pred = reg.predict(X_test)\n",
    "\n",
    "# Scores:\n",
    "print(r2_score(y_test, y_pred))\n",
    "print(mean_squared_error(y_test, y_pred))"
   ]
  },
  {
   "cell_type": "code",
   "execution_count": null,
   "metadata": {},
   "outputs": [],
   "source": []
  }
 ],
 "metadata": {
  "kernelspec": {
   "display_name": "Python 3",
   "language": "python",
   "name": "python3"
  },
  "language_info": {
   "codemirror_mode": {
    "name": "ipython",
    "version": 3
   },
   "file_extension": ".py",
   "mimetype": "text/x-python",
   "name": "python",
   "nbconvert_exporter": "python",
   "pygments_lexer": "ipython3",
   "version": "3.7.4"
  }
 },
 "nbformat": 4,
 "nbformat_minor": 2
}
